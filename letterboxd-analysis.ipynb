{
 "cells": [
  {
   "cell_type": "code",
   "execution_count": 1,
   "id": "b0f6828f",
   "metadata": {
    "_cell_guid": "b1076dfc-b9ad-4769-8c92-a6c4dae69d19",
    "_uuid": "8f2839f25d086af736a60e9eeb907d3b93b6e0e5",
    "execution": {
     "iopub.execute_input": "2024-09-05T19:50:02.531848Z",
     "iopub.status.busy": "2024-09-05T19:50:02.531358Z",
     "iopub.status.idle": "2024-09-05T19:50:19.002491Z",
     "shell.execute_reply": "2024-09-05T19:50:19.000999Z"
    },
    "papermill": {
     "duration": 16.483741,
     "end_time": "2024-09-05T19:50:19.005221",
     "exception": false,
     "start_time": "2024-09-05T19:50:02.521480",
     "status": "completed"
    },
    "tags": []
   },
   "outputs": [
    {
     "name": "stdout",
     "output_type": "stream",
     "text": [
      "Collecting tmdbsimple\r\n",
      "  Downloading tmdbsimple-2.9.1-py3-none-any.whl.metadata (6.9 kB)\r\n",
      "Requirement already satisfied: requests in /opt/conda/lib/python3.10/site-packages (from tmdbsimple) (2.32.3)\r\n",
      "Requirement already satisfied: charset-normalizer<4,>=2 in /opt/conda/lib/python3.10/site-packages (from requests->tmdbsimple) (3.3.2)\r\n",
      "Requirement already satisfied: idna<4,>=2.5 in /opt/conda/lib/python3.10/site-packages (from requests->tmdbsimple) (3.6)\r\n",
      "Requirement already satisfied: urllib3<3,>=1.21.1 in /opt/conda/lib/python3.10/site-packages (from requests->tmdbsimple) (1.26.18)\r\n",
      "Requirement already satisfied: certifi>=2017.4.17 in /opt/conda/lib/python3.10/site-packages (from requests->tmdbsimple) (2024.7.4)\r\n",
      "Downloading tmdbsimple-2.9.1-py3-none-any.whl (38 kB)\r\n",
      "Installing collected packages: tmdbsimple\r\n",
      "Successfully installed tmdbsimple-2.9.1\r\n"
     ]
    }
   ],
   "source": [
    "!pip install tmdbsimple"
   ]
  },
  {
   "cell_type": "code",
   "execution_count": 2,
   "id": "490b311e",
   "metadata": {
    "execution": {
     "iopub.execute_input": "2024-09-05T19:50:19.021902Z",
     "iopub.status.busy": "2024-09-05T19:50:19.021471Z",
     "iopub.status.idle": "2024-09-05T19:50:25.081098Z",
     "shell.execute_reply": "2024-09-05T19:50:25.079370Z"
    },
    "papermill": {
     "duration": 6.07146,
     "end_time": "2024-09-05T19:50:25.084255",
     "exception": false,
     "start_time": "2024-09-05T19:50:19.012795",
     "status": "completed"
    },
    "tags": []
   },
   "outputs": [
    {
     "name": "stdout",
     "output_type": "stream",
     "text": [
      "Using Kaggle's public dataset BigQuery integration.\n"
     ]
    }
   ],
   "source": [
    "import tmdbsimple as tmdb\n",
    "import pandas as pd\n",
    "import sqlite3 as sql\n",
    "from google.cloud import bigquery\n",
    "client = bigquery.Client()\n",
    "connection = sql.connect(':memory:')"
   ]
  },
  {
   "cell_type": "code",
   "execution_count": 3,
   "id": "3755551b",
   "metadata": {
    "execution": {
     "iopub.execute_input": "2024-09-05T19:50:25.101920Z",
     "iopub.status.busy": "2024-09-05T19:50:25.101370Z",
     "iopub.status.idle": "2024-09-05T19:50:25.106975Z",
     "shell.execute_reply": "2024-09-05T19:50:25.105741Z"
    },
    "papermill": {
     "duration": 0.016757,
     "end_time": "2024-09-05T19:50:25.109353",
     "exception": false,
     "start_time": "2024-09-05T19:50:25.092596",
     "status": "completed"
    },
    "tags": []
   },
   "outputs": [],
   "source": [
    "tmdb.API_KEY = '637ae0caefc579558e30ed409fb20532'\n",
    "search = tmdb.Search()\n",
    "discover = tmdb.Discover()"
   ]
  },
  {
   "cell_type": "code",
   "execution_count": 4,
   "id": "8d106689",
   "metadata": {
    "execution": {
     "iopub.execute_input": "2024-09-05T19:50:25.125696Z",
     "iopub.status.busy": "2024-09-05T19:50:25.125341Z",
     "iopub.status.idle": "2024-09-05T19:50:25.157106Z",
     "shell.execute_reply": "2024-09-05T19:50:25.155906Z"
    },
    "papermill": {
     "duration": 0.043185,
     "end_time": "2024-09-05T19:50:25.159979",
     "exception": false,
     "start_time": "2024-09-05T19:50:25.116794",
     "status": "completed"
    },
    "tags": []
   },
   "outputs": [],
   "source": [
    "watched = pd.read_csv('/kaggle/input/letterboxd/diary.csv')\n",
    "reviewed = pd.read_csv('/kaggle/input/reviewed/reviews.csv')\n",
    "liked_films = pd.read_csv('/kaggle/input/liked-films/films.csv')"
   ]
  },
  {
   "cell_type": "code",
   "execution_count": 5,
   "id": "130c5d14",
   "metadata": {
    "execution": {
     "iopub.execute_input": "2024-09-05T19:50:25.177512Z",
     "iopub.status.busy": "2024-09-05T19:50:25.177098Z",
     "iopub.status.idle": "2024-09-05T19:50:25.216561Z",
     "shell.execute_reply": "2024-09-05T19:50:25.215232Z"
    },
    "papermill": {
     "duration": 0.051215,
     "end_time": "2024-09-05T19:50:25.219469",
     "exception": false,
     "start_time": "2024-09-05T19:50:25.168254",
     "status": "completed"
    },
    "tags": []
   },
   "outputs": [
    {
     "data": {
      "text/html": [
       "<div>\n",
       "<style scoped>\n",
       "    .dataframe tbody tr th:only-of-type {\n",
       "        vertical-align: middle;\n",
       "    }\n",
       "\n",
       "    .dataframe tbody tr th {\n",
       "        vertical-align: top;\n",
       "    }\n",
       "\n",
       "    .dataframe thead th {\n",
       "        text-align: right;\n",
       "    }\n",
       "</style>\n",
       "<table border=\"1\" class=\"dataframe\">\n",
       "  <thead>\n",
       "    <tr style=\"text-align: right;\">\n",
       "      <th></th>\n",
       "      <th>Date</th>\n",
       "      <th>Name</th>\n",
       "      <th>Year</th>\n",
       "      <th>Letterboxd URI</th>\n",
       "      <th>Rating</th>\n",
       "      <th>Rewatch</th>\n",
       "      <th>Tags</th>\n",
       "      <th>Watched Date</th>\n",
       "    </tr>\n",
       "  </thead>\n",
       "  <tbody>\n",
       "    <tr>\n",
       "      <th>0</th>\n",
       "      <td>2020-06-27</td>\n",
       "      <td>Parasite</td>\n",
       "      <td>2019</td>\n",
       "      <td>https://boxd.it/1dGmIN</td>\n",
       "      <td>4.5</td>\n",
       "      <td>NaN</td>\n",
       "      <td>NaN</td>\n",
       "      <td>2020-06-26</td>\n",
       "    </tr>\n",
       "    <tr>\n",
       "      <th>1</th>\n",
       "      <td>2020-06-27</td>\n",
       "      <td>Get Out</td>\n",
       "      <td>2017</td>\n",
       "      <td>https://boxd.it/1dGmRZ</td>\n",
       "      <td>4.5</td>\n",
       "      <td>NaN</td>\n",
       "      <td>NaN</td>\n",
       "      <td>2020-06-26</td>\n",
       "    </tr>\n",
       "    <tr>\n",
       "      <th>2</th>\n",
       "      <td>2020-06-27</td>\n",
       "      <td>Spirited Away</td>\n",
       "      <td>2001</td>\n",
       "      <td>https://boxd.it/1dGn79</td>\n",
       "      <td>3.5</td>\n",
       "      <td>NaN</td>\n",
       "      <td>NaN</td>\n",
       "      <td>2020-06-26</td>\n",
       "    </tr>\n",
       "    <tr>\n",
       "      <th>3</th>\n",
       "      <td>2020-06-27</td>\n",
       "      <td>Us</td>\n",
       "      <td>2019</td>\n",
       "      <td>https://boxd.it/1dGnht</td>\n",
       "      <td>4.5</td>\n",
       "      <td>NaN</td>\n",
       "      <td>NaN</td>\n",
       "      <td>2020-06-26</td>\n",
       "    </tr>\n",
       "    <tr>\n",
       "      <th>4</th>\n",
       "      <td>2020-06-27</td>\n",
       "      <td>Spider-Man: Homecoming</td>\n",
       "      <td>2017</td>\n",
       "      <td>https://boxd.it/1dGnof</td>\n",
       "      <td>3.0</td>\n",
       "      <td>NaN</td>\n",
       "      <td>NaN</td>\n",
       "      <td>2020-06-26</td>\n",
       "    </tr>\n",
       "    <tr>\n",
       "      <th>...</th>\n",
       "      <td>...</td>\n",
       "      <td>...</td>\n",
       "      <td>...</td>\n",
       "      <td>...</td>\n",
       "      <td>...</td>\n",
       "      <td>...</td>\n",
       "      <td>...</td>\n",
       "      <td>...</td>\n",
       "    </tr>\n",
       "    <tr>\n",
       "      <th>196</th>\n",
       "      <td>2024-07-12</td>\n",
       "      <td>Longlegs</td>\n",
       "      <td>2024</td>\n",
       "      <td>https://boxd.it/6Rakn5</td>\n",
       "      <td>4.0</td>\n",
       "      <td>NaN</td>\n",
       "      <td>NaN</td>\n",
       "      <td>2024-07-11</td>\n",
       "    </tr>\n",
       "    <tr>\n",
       "      <th>197</th>\n",
       "      <td>2024-07-16</td>\n",
       "      <td>Naruto 20th Anniversary - Road of Naruto</td>\n",
       "      <td>2022</td>\n",
       "      <td>https://boxd.it/6T5lcF</td>\n",
       "      <td>5.0</td>\n",
       "      <td>NaN</td>\n",
       "      <td>NaN</td>\n",
       "      <td>2024-07-15</td>\n",
       "    </tr>\n",
       "    <tr>\n",
       "      <th>198</th>\n",
       "      <td>2024-07-17</td>\n",
       "      <td>Boruto: Naruto the Movie</td>\n",
       "      <td>2015</td>\n",
       "      <td>https://boxd.it/6TDLft</td>\n",
       "      <td>4.5</td>\n",
       "      <td>Yes</td>\n",
       "      <td>NaN</td>\n",
       "      <td>2024-07-17</td>\n",
       "    </tr>\n",
       "    <tr>\n",
       "      <th>199</th>\n",
       "      <td>2024-07-25</td>\n",
       "      <td>Twisters</td>\n",
       "      <td>2024</td>\n",
       "      <td>https://boxd.it/6XeoPT</td>\n",
       "      <td>5.0</td>\n",
       "      <td>NaN</td>\n",
       "      <td>NaN</td>\n",
       "      <td>2024-07-24</td>\n",
       "    </tr>\n",
       "    <tr>\n",
       "      <th>200</th>\n",
       "      <td>2024-08-16</td>\n",
       "      <td>The Undoing</td>\n",
       "      <td>2020</td>\n",
       "      <td>https://boxd.it/76FMAj</td>\n",
       "      <td>4.5</td>\n",
       "      <td>NaN</td>\n",
       "      <td>NaN</td>\n",
       "      <td>2024-08-15</td>\n",
       "    </tr>\n",
       "  </tbody>\n",
       "</table>\n",
       "<p>201 rows × 8 columns</p>\n",
       "</div>"
      ],
      "text/plain": [
       "           Date                                      Name  Year  \\\n",
       "0    2020-06-27                                  Parasite  2019   \n",
       "1    2020-06-27                                   Get Out  2017   \n",
       "2    2020-06-27                             Spirited Away  2001   \n",
       "3    2020-06-27                                        Us  2019   \n",
       "4    2020-06-27                    Spider-Man: Homecoming  2017   \n",
       "..          ...                                       ...   ...   \n",
       "196  2024-07-12                                  Longlegs  2024   \n",
       "197  2024-07-16  Naruto 20th Anniversary - Road of Naruto  2022   \n",
       "198  2024-07-17                  Boruto: Naruto the Movie  2015   \n",
       "199  2024-07-25                                  Twisters  2024   \n",
       "200  2024-08-16                               The Undoing  2020   \n",
       "\n",
       "             Letterboxd URI  Rating Rewatch  Tags Watched Date  \n",
       "0    https://boxd.it/1dGmIN     4.5     NaN   NaN   2020-06-26  \n",
       "1    https://boxd.it/1dGmRZ     4.5     NaN   NaN   2020-06-26  \n",
       "2    https://boxd.it/1dGn79     3.5     NaN   NaN   2020-06-26  \n",
       "3    https://boxd.it/1dGnht     4.5     NaN   NaN   2020-06-26  \n",
       "4    https://boxd.it/1dGnof     3.0     NaN   NaN   2020-06-26  \n",
       "..                      ...     ...     ...   ...          ...  \n",
       "196  https://boxd.it/6Rakn5     4.0     NaN   NaN   2024-07-11  \n",
       "197  https://boxd.it/6T5lcF     5.0     NaN   NaN   2024-07-15  \n",
       "198  https://boxd.it/6TDLft     4.5     Yes   NaN   2024-07-17  \n",
       "199  https://boxd.it/6XeoPT     5.0     NaN   NaN   2024-07-24  \n",
       "200  https://boxd.it/76FMAj     4.5     NaN   NaN   2024-08-15  \n",
       "\n",
       "[201 rows x 8 columns]"
      ]
     },
     "execution_count": 5,
     "metadata": {},
     "output_type": "execute_result"
    }
   ],
   "source": [
    "watched"
   ]
  },
  {
   "cell_type": "code",
   "execution_count": 6,
   "id": "3cadb6ab",
   "metadata": {
    "execution": {
     "iopub.execute_input": "2024-09-05T19:50:25.237573Z",
     "iopub.status.busy": "2024-09-05T19:50:25.237154Z",
     "iopub.status.idle": "2024-09-05T19:50:25.250745Z",
     "shell.execute_reply": "2024-09-05T19:50:25.249350Z"
    },
    "papermill": {
     "duration": 0.026169,
     "end_time": "2024-09-05T19:50:25.253794",
     "exception": false,
     "start_time": "2024-09-05T19:50:25.227625",
     "status": "completed"
    },
    "tags": []
   },
   "outputs": [
    {
     "data": {
      "text/html": [
       "<div>\n",
       "<style scoped>\n",
       "    .dataframe tbody tr th:only-of-type {\n",
       "        vertical-align: middle;\n",
       "    }\n",
       "\n",
       "    .dataframe tbody tr th {\n",
       "        vertical-align: top;\n",
       "    }\n",
       "\n",
       "    .dataframe thead th {\n",
       "        text-align: right;\n",
       "    }\n",
       "</style>\n",
       "<table border=\"1\" class=\"dataframe\">\n",
       "  <thead>\n",
       "    <tr style=\"text-align: right;\">\n",
       "      <th></th>\n",
       "      <th>Date</th>\n",
       "      <th>Content</th>\n",
       "    </tr>\n",
       "  </thead>\n",
       "  <tbody>\n",
       "    <tr>\n",
       "      <th>0</th>\n",
       "      <td>2020-10-17</td>\n",
       "      <td>https://boxd.it/12IDQT</td>\n",
       "    </tr>\n",
       "    <tr>\n",
       "      <th>1</th>\n",
       "      <td>2020-12-22</td>\n",
       "      <td>https://boxd.it/1wDGWb</td>\n",
       "    </tr>\n",
       "    <tr>\n",
       "      <th>2</th>\n",
       "      <td>2020-12-22</td>\n",
       "      <td>https://boxd.it/1wDFOv</td>\n",
       "    </tr>\n",
       "    <tr>\n",
       "      <th>3</th>\n",
       "      <td>2020-12-31</td>\n",
       "      <td>https://boxd.it/1xVF0F</td>\n",
       "    </tr>\n",
       "    <tr>\n",
       "      <th>4</th>\n",
       "      <td>2021-02-08</td>\n",
       "      <td>https://boxd.it/1E8y5t</td>\n",
       "    </tr>\n",
       "    <tr>\n",
       "      <th>...</th>\n",
       "      <td>...</td>\n",
       "      <td>...</td>\n",
       "    </tr>\n",
       "    <tr>\n",
       "      <th>146</th>\n",
       "      <td>2024-05-25</td>\n",
       "      <td>https://boxd.it/6xw5DB</td>\n",
       "    </tr>\n",
       "    <tr>\n",
       "      <th>147</th>\n",
       "      <td>2024-06-29</td>\n",
       "      <td>https://boxd.it/6LB859</td>\n",
       "    </tr>\n",
       "    <tr>\n",
       "      <th>148</th>\n",
       "      <td>2024-06-29</td>\n",
       "      <td>https://boxd.it/6LBmpd</td>\n",
       "    </tr>\n",
       "    <tr>\n",
       "      <th>149</th>\n",
       "      <td>2024-07-12</td>\n",
       "      <td>https://boxd.it/6Raf7L</td>\n",
       "    </tr>\n",
       "    <tr>\n",
       "      <th>150</th>\n",
       "      <td>2024-07-15</td>\n",
       "      <td>https://boxd.it/6ScbnN</td>\n",
       "    </tr>\n",
       "  </tbody>\n",
       "</table>\n",
       "<p>151 rows × 2 columns</p>\n",
       "</div>"
      ],
      "text/plain": [
       "           Date                 Content\n",
       "0    2020-10-17  https://boxd.it/12IDQT\n",
       "1    2020-12-22  https://boxd.it/1wDGWb\n",
       "2    2020-12-22  https://boxd.it/1wDFOv\n",
       "3    2020-12-31  https://boxd.it/1xVF0F\n",
       "4    2021-02-08  https://boxd.it/1E8y5t\n",
       "..          ...                     ...\n",
       "146  2024-05-25  https://boxd.it/6xw5DB\n",
       "147  2024-06-29  https://boxd.it/6LB859\n",
       "148  2024-06-29  https://boxd.it/6LBmpd\n",
       "149  2024-07-12  https://boxd.it/6Raf7L\n",
       "150  2024-07-15  https://boxd.it/6ScbnN\n",
       "\n",
       "[151 rows x 2 columns]"
      ]
     },
     "execution_count": 6,
     "metadata": {},
     "output_type": "execute_result"
    }
   ],
   "source": [
    "reviewed"
   ]
  },
  {
   "cell_type": "code",
   "execution_count": 7,
   "id": "062c6a11",
   "metadata": {
    "execution": {
     "iopub.execute_input": "2024-09-05T19:50:25.272633Z",
     "iopub.status.busy": "2024-09-05T19:50:25.271987Z",
     "iopub.status.idle": "2024-09-05T19:50:25.278852Z",
     "shell.execute_reply": "2024-09-05T19:50:25.277736Z"
    },
    "papermill": {
     "duration": 0.019996,
     "end_time": "2024-09-05T19:50:25.282521",
     "exception": false,
     "start_time": "2024-09-05T19:50:25.262525",
     "status": "completed"
    },
    "tags": []
   },
   "outputs": [
    {
     "name": "stdout",
     "output_type": "stream",
     "text": [
      "['Parasite', 'Get Out', 'Spirited Away', 'Us', 'Spider-Man: Homecoming', 'Inside Out', 'Coco', 'Harry Potter and the Prisoner of Azkaban', 'ERASED', 'Rascal Does Not Dream of Bunny Girl Senpai', 'DARLING in the FRANXX', 'Your Name.', 'Wolf Children', 'Whisper of the Heart', 'Hotarubi no Mori e', 'Rascal Does Not Dream of a Dreaming Girl', 'Demon Slayer: Kimetsu no Yaiba', 'When They See Us', 'Hope', 'Miracle in Cell No. 7', 'The Great Gatsby', 'The Greatest Showman', 'Coraline', 'The Devil All the Time', 'The Kissing Booth', 'Marriage Story', 'The Twilight Saga: Breaking Dawn – Part 1', 'Hereditary', 'The Hate U Give', 'The Silence of the Lambs', 'Hubie Halloween', 'Zodiac', 'Dream/Killer', 'After We Collided', 'The Imitation Game', 'The Social Network', 'Argo', 'The Amazing Spider-Man', 'The Amazing Spider-Man 2', 'Hacksaw Ridge', 'Snowden', 'Now You See Me 2', 'The Big Short', 'ariana grande: excuse me, i love you', 'Little Big Women', 'Hospital', 'The Trial of the Chicago 7', 'Fear Street: 1994', '10 Things I Hate About You', 'Jojo Rabbit', 'Moonrise Kingdom', 'The Dark Knight', 'Prisoners', 'Good Time', 'The Perks of Being a Wallflower', 'The Kissing Booth', 'Good Boys', 'Us', 'The Kissing Booth 3', 'Captain America: Civil War', 'The Nun', 'Annabelle Comes Home', 'Spider-Man: Into the Spider-Verse', 'Primal Fear', 'A Tale of Two Sisters', 'Harry Potter and the Goblet of Fire', 'Big Hero 6', 'Dou kyu sei – Classmates', 'The Social Network', 'It', '10 Things I Hate About You', 'The Amazing Spider-Man', 'Splice', 'Dune', 'All Too Well: The Short Film', 'tick, tick... BOOM!', 'Spider-Man: No Way Home', 'Spider-Man 2', 'Spider-Man 3', 'tick, tick... BOOM!', 'Little Women', 'Superbad', 'Crazy, Stupid, Love.', \"Molly's Game\", 'The Batman', 'Normal People', 'Jujutsu Kaisen 0', 'Silver Linings Playbook', 'Atonement', \"To All the Boys I've Loved Before\", 'Perfect Blue', 'Happy Together', 'Silenced', 'Boruto: Naruto the Movie', 'Top Gun: Maverick', 'Mr. & Mrs. Smith', 'What If', \"Ocean's Eleven\", 'A Cinderella Story', 'Naruto Shippuden the Movie: The Will of Fire', 'The Conjuring', 'Gifted', 'Nope', 'Paddington', 'West Side Story', 'Insidious: Chapter 3', 'Jaws', 'Honor Society', 'Elvis', 'Whiplash', \"To All the Boys I've Loved Before\", 'Arrival', '(500) Days of Summer', 'To All the Boys: Always and Forever', 'To All the Boys: P.S. I Still Love You', 'Ready or Not', 'Gone Girl', 'Train to Busan', 'Flipped', '13 Going on 30', 'One Direction: This Is Us', 'BTS: Permission to Dance on Stage - LA', 'The Edge of Seventeen', 'Geek Charming', 'Monster House', 'Klaus', 'NCT DREAM THE MOVIE : In A DREAM', 'Hereditary', 'Set It Up', 'Pride & Prejudice', 'Glass Onion', 'Harry Potter and the Order of the Phoenix', 'Harry Potter and the Goblet of Fire', 'Harry Potter and the Half-Blood Prince', 'Harry Potter and the Deathly Hallows: Part 2', 'Harry Potter and the Deathly Hallows: Part 1', 'Barbarian', 'Puss in Boots: The Last Wish', 'Everything Everywhere All at Once', 'High School Musical 2', 'The Sixth Sense', 'The Social Network', 'Zombieland: Double Tap', 'Scream', 'Zombieland', 'Scream', \"To All the Boys I've Loved Before\", 'The Hunger Games: Catching Fire', 'Chungking Express', 'The Super Mario Bros. Movie', 'Scream VI', 'Saw', 'The Little Mermaid', 'Spider-Man: Across the Spider-Verse', 'Black Mirror: Demon 79', 'Mean Girls', 'Black Mirror: Hang the DJ', 'The Redeem Team', 'Black Mirror: Rachel, Jack and Ashley Too', 'Searching', 'La La Land', 'Bird Box Barcelona', \"To All the Boys I've Loved Before\", 'Barbie', 'Oppenheimer', 'High School Musical', 'Get Out', 'The Dark Knight', \"My Sister's Keeper\", 'Bodies Bodies Bodies', 'The Shining', 'Barbie', 'Scream', 'You Are So Not Invited to My Bat Mitzvah', \"Five Nights at Freddy's\", \"She's Dating the Gangster\", 'Wonka', 'The Hunger Games', 'The Iron Claw', 'The Wailing', 'Paddington 2', \"Ocean's Eleven\", 'Dune: Part Two', 'Bodies Bodies Bodies', 'Princess Mononoke', 'Civil War', 'Challengers', 'The Idea of You', 'Dear Zachary: A Letter to a Son About His Father', 'The Cove', 'The Alpinist', 'The Jinx: The Life and Deaths of Robert Durst', 'The Hunger Games: Catching Fire', 'Inside Out 2', 'Tell Them You Love Me', 'Diary of a Wimpy Kid: Rodrick Rules', 'Longlegs', 'Naruto 20th Anniversary - Road of Naruto', 'Boruto: Naruto the Movie', 'Twisters', 'The Undoing']\n",
      "201\n"
     ]
    }
   ],
   "source": [
    "# Extract title for each film into a list\n",
    "\n",
    "titles = watched.Name.tolist()\n",
    "print(titles)\n",
    "print(len(titles))"
   ]
  },
  {
   "cell_type": "code",
   "execution_count": 8,
   "id": "0575d920",
   "metadata": {
    "execution": {
     "iopub.execute_input": "2024-09-05T19:50:25.303065Z",
     "iopub.status.busy": "2024-09-05T19:50:25.302694Z",
     "iopub.status.idle": "2024-09-05T19:50:25.308812Z",
     "shell.execute_reply": "2024-09-05T19:50:25.307541Z"
    },
    "papermill": {
     "duration": 0.019892,
     "end_time": "2024-09-05T19:50:25.312166",
     "exception": false,
     "start_time": "2024-09-05T19:50:25.292274",
     "status": "completed"
    },
    "tags": []
   },
   "outputs": [
    {
     "name": "stdout",
     "output_type": "stream",
     "text": [
      "[2019, 2017, 2001, 2019, 2017, 2015, 2017, 2004, 2016, 2018, 2018, 2016, 2012, 1995, 2011, 2019, 2019, 2019, 2013, 2013, 2013, 2017, 2009, 2020, 2018, 2019, 2011, 2018, 2018, 1991, 2020, 2007, 2015, 2020, 2014, 2010, 2012, 2012, 2014, 2016, 2016, 2016, 2015, 2020, 2020, 2020, 2020, 2021, 1999, 2019, 2012, 2008, 2013, 2017, 2012, 2018, 2019, 2019, 2021, 2016, 2018, 2019, 2018, 1996, 2003, 2005, 2014, 2016, 2010, 2017, 1999, 2012, 2009, 2021, 2021, 2021, 2021, 2004, 2007, 2021, 2019, 2007, 2011, 2017, 2022, 2020, 2021, 2012, 2007, 2018, 1997, 1997, 2011, 2015, 2022, 2005, 2013, 2001, 2004, 2009, 2013, 2017, 2022, 2014, 2021, 2015, 1975, 2022, 2022, 2014, 2018, 2016, 2009, 2021, 2020, 2019, 2014, 2016, 2010, 2004, 2013, 2022, 2016, 2011, 2006, 2019, 2022, 2018, 2018, 2005, 2022, 2007, 2005, 2009, 2011, 2010, 2022, 2022, 2022, 2007, 1999, 2010, 2019, 1996, 2009, 2022, 2018, 2013, 1994, 2023, 2023, 2004, 2023, 2023, 2023, 2004, 2017, 2022, 2019, 2018, 2016, 2023, 2018, 2023, 2023, 2006, 2017, 2008, 2009, 2022, 1980, 2023, 1996, 2023, 2023, 2014, 2023, 2012, 2023, 2016, 2017, 2001, 2024, 2022, 1997, 2024, 2024, 2024, 2008, 2009, 2021, 2015, 2013, 2024, 2023, 2011, 2024, 2022, 2015, 2024, 2020]\n",
      "201\n"
     ]
    }
   ],
   "source": [
    "# Extract release year of each film into a list\n",
    "release_years = watched.Year.tolist()\n",
    "print(release_years)\n",
    "print(len(release_years))"
   ]
  },
  {
   "cell_type": "code",
   "execution_count": 9,
   "id": "aae30c99",
   "metadata": {
    "execution": {
     "iopub.execute_input": "2024-09-05T19:50:25.331719Z",
     "iopub.status.busy": "2024-09-05T19:50:25.331328Z",
     "iopub.status.idle": "2024-09-05T19:51:06.058945Z",
     "shell.execute_reply": "2024-09-05T19:51:06.057658Z"
    },
    "papermill": {
     "duration": 40.740224,
     "end_time": "2024-09-05T19:51:06.061707",
     "exception": false,
     "start_time": "2024-09-05T19:50:25.321483",
     "status": "completed"
    },
    "tags": []
   },
   "outputs": [
    {
     "name": "stdout",
     "output_type": "stream",
     "text": [
      "Parasite  /  2019-05-30  /  496243\n",
      "Get Out  /  2017-02-24  /  419430\n",
      "Spirited Away  /  2001-07-20  /  129\n",
      "Us  /  2019-03-14  /  458723\n",
      "Spider-Man: Homecoming  /  2017-07-05  /  315635\n",
      "Inside Out  /  2015-06-17  /  150540\n",
      "Coco  /  2017-10-27  /  354912\n",
      "Harry Potter and the Prisoner of Azkaban  /  2004-05-31  /  673\n",
      "Your Name.  /  2016-08-26  /  372058\n",
      "Wolf Children  /  2012-07-21  /  110420\n",
      "Whisper of the Heart  /  1995-07-15  /  37797\n",
      "Hotarubi no Mori e  /  2011-09-17  /  92321\n",
      "Rascal Does Not Dream of a Dreaming Girl  /  2019-06-15  /  572154\n",
      "Hope  /  2013-10-02  /  255709\n",
      "Miracle in Cell No. 7  /  2013-01-23  /  158445\n",
      "The Great Gatsby  /  2013-05-09  /  64682\n",
      "The Greatest Showman  /  2017-12-20  /  316029\n",
      "Coraline  /  2009-02-05  /  14836\n",
      "The Devil All the Time  /  2020-09-11  /  499932\n",
      "The Kissing Booth  /  2018-05-11  /  454983\n",
      "Marriage Story  /  2019-09-28  /  492188\n",
      "Hereditary  /  2018-06-07  /  493922\n",
      "The Hate U Give  /  2018-10-19  /  470044\n",
      "The Silence of the Lambs  /  1991-02-14  /  274\n",
      "Hubie Halloween  /  2020-10-07  /  617505\n",
      "Zodiac  /  2007-03-02  /  1949\n",
      "Dream/Killer  /  2015-04-19  /  333099\n",
      "After We Collided  /  2020-09-02  /  613504\n",
      "The Imitation Game  /  2014-11-14  /  205596\n",
      "The Social Network  /  2010-10-01  /  37799\n",
      "Argo  /  2012-10-11  /  68734\n",
      "The Amazing Spider-Man  /  2012-06-23  /  1930\n",
      "The Amazing Spider-Man 2  /  2014-04-16  /  102382\n",
      "Hacksaw Ridge  /  2016-10-07  /  324786\n",
      "Snowden  /  2016-09-15  /  302401\n",
      "Now You See Me 2  /  2016-06-02  /  291805\n",
      "The Big Short  /  2015-12-11  /  318846\n",
      "ariana grande: excuse me, i love you  /  2020-12-21  /  774372\n",
      "Little Big Women  /  2020-11-06  /  739269\n",
      "Hospital  /  2020-12-31  /  761163\n",
      "The Trial of the Chicago 7  /  2020-09-25  /  556984\n",
      "Fear Street: 1994  /  2021-06-28  /  591273\n",
      "10 Things I Hate About You  /  1999-03-30  /  4951\n",
      "Jojo Rabbit  /  2019-10-18  /  515001\n",
      "Moonrise Kingdom  /  2012-05-16  /  83666\n",
      "The Dark Knight  /  2008-07-16  /  155\n",
      "Prisoners  /  2013-09-19  /  146233\n",
      "Good Time  /  2017-08-11  /  429200\n",
      "The Perks of Being a Wallflower  /  2012-09-20  /  84892\n",
      "The Kissing Booth  /  2018-05-11  /  454983\n",
      "Good Boys  /  2019-08-14  /  521777\n",
      "Us  /  2019-03-14  /  458723\n",
      "The Kissing Booth 3  /  2021-08-11  /  727745\n",
      "Captain America: Civil War  /  2016-04-27  /  271110\n",
      "The Nun  /  2018-09-05  /  439079\n",
      "Annabelle Comes Home  /  2019-06-26  /  521029\n",
      "Spider-Man: Into the Spider-Verse  /  2018-12-06  /  324857\n",
      "Primal Fear  /  1996-03-06  /  1592\n",
      "A Tale of Two Sisters  /  2003-06-13  /  4552\n",
      "Harry Potter and the Goblet of Fire  /  2005-11-16  /  674\n",
      "Big Hero 6  /  2014-10-24  /  177572\n",
      "Dou kyu sei – Classmates  /  2016-02-20  /  372754\n",
      "The Social Network  /  2010-10-01  /  37799\n",
      "It  /  2017-09-06  /  346364\n",
      "10 Things I Hate About You  /  1999-03-30  /  4951\n",
      "The Amazing Spider-Man  /  2012-06-23  /  1930\n",
      "Splice  /  2010-06-03  /  37707\n",
      "Dune  /  2021-09-15  /  438631\n",
      "All Too Well: The Short Film  /  2021-11-12  /  897429\n",
      "tick, tick... BOOM!  /  2021-11-11  /  537116\n",
      "Spider-Man: No Way Home  /  2021-12-15  /  634649\n",
      "Spider-Man 2  /  2004-06-25  /  558\n",
      "Spider-Man 3  /  2007-05-01  /  559\n",
      "tick, tick... BOOM!  /  2021-11-11  /  537116\n",
      "Little Women  /  2019-12-25  /  331482\n",
      "Superbad  /  2007-03-20  /  8363\n",
      "Crazy, Stupid, Love.  /  2011-07-29  /  50646\n",
      "Molly's Game  /  2017-12-07  /  396371\n",
      "The Batman  /  2022-03-01  /  414906\n",
      "Jujutsu Kaisen 0  /  2021-12-24  /  810693\n",
      "Silver Linings Playbook  /  2012-11-16  /  82693\n",
      "Atonement  /  2007-02-27  /  4347\n",
      "To All the Boys I've Loved Before  /  2018-08-16  /  466282\n",
      "Perfect Blue  /  1998-02-28  /  10494\n",
      "Happy Together  /  1997-05-30  /  18329\n",
      "Silenced  /  2011-09-22  /  81481\n",
      "Boruto: Naruto the Movie  /  2015-08-07  /  347201\n",
      "Top Gun: Maverick  /  2022-05-21  /  361743\n",
      "Mr. & Mrs. Smith  /  2005-06-07  /  787\n",
      "What If  /  2013-09-07  /  212716\n",
      "Ocean's Eleven  /  2001-12-07  /  161\n",
      "A Cinderella Story  /  2004-07-16  /  11247\n",
      "Naruto Shippuden the Movie: The Will of Fire  /  2009-08-01  /  36728\n",
      "The Conjuring  /  2013-07-18  /  138843\n",
      "Gifted  /  2017-04-07  /  400928\n",
      "Nope  /  2022-07-20  /  762504\n",
      "Paddington  /  2014-11-24  /  116149\n",
      "West Side Story  /  2021-12-08  /  511809\n",
      "Insidious: Chapter 3  /  2015-05-28  /  280092\n",
      "Jaws  /  1975-06-20  /  578\n",
      "Honor Society  /  2022-07-23  /  929170\n",
      "Elvis  /  2022-06-22  /  614934\n",
      "Whiplash  /  2014-10-10  /  244786\n",
      "To All the Boys I've Loved Before  /  2018-08-16  /  466282\n",
      "Arrival  /  2016-11-10  /  329865\n",
      "(500) Days of Summer  /  2009-07-17  /  19913\n",
      "To All the Boys: Always and Forever  /  2021-02-12  /  614409\n",
      "To All the Boys: P.S. I Still Love You  /  2020-02-03  /  565426\n",
      "Ready or Not  /  2019-08-21  /  567609\n",
      "Gone Girl  /  2014-10-01  /  210577\n",
      "Train to Busan  /  2016-07-20  /  396535\n",
      "Flipped  /  2010-08-06  /  43949\n",
      "13 Going on 30  /  2004-04-13  /  10096\n",
      "One Direction: This Is Us  /  2013-08-28  /  164558\n",
      "BTS: Permission to Dance on Stage - LA  /  2022-09-08  /  1022102\n",
      "The Edge of Seventeen  /  2016-11-18  /  376660\n",
      "Geek Charming  /  2011-11-11  /  81250\n",
      "Monster House  /  2006-06-30  /  9297\n",
      "Klaus  /  2019-11-08  /  508965\n",
      "NCT DREAM THE MOVIE : In A DREAM  /  2022-11-30  /  1038198\n",
      "Hereditary  /  2018-06-07  /  493922\n",
      "Set It Up  /  2018-06-15  /  384677\n",
      "Pride & Prejudice  /  2005-09-16  /  4348\n",
      "Harry Potter and the Order of the Phoenix  /  2007-07-08  /  675\n",
      "Harry Potter and the Goblet of Fire  /  2005-11-16  /  674\n",
      "Harry Potter and the Half-Blood Prince  /  2009-07-15  /  767\n",
      "Harry Potter and the Deathly Hallows: Part 2  /  2011-07-12  /  12445\n",
      "Harry Potter and the Deathly Hallows: Part 1  /  2010-11-17  /  12444\n",
      "Barbarian  /  2022-09-08  /  913290\n",
      "Puss in Boots: The Last Wish  /  2022-12-07  /  315162\n",
      "Everything Everywhere All at Once  /  2022-03-24  /  545611\n",
      "High School Musical 2  /  2007-08-17  /  13649\n",
      "The Sixth Sense  /  1999-08-06  /  745\n",
      "The Social Network  /  2010-10-01  /  37799\n",
      "Zombieland: Double Tap  /  2019-10-09  /  338967\n",
      "Scream  /  1996-12-20  /  4232\n",
      "Zombieland  /  2009-10-02  /  19908\n",
      "Scream  /  2022-01-12  /  646385\n",
      "To All the Boys I've Loved Before  /  2018-08-16  /  466282\n",
      "The Hunger Games: Catching Fire  /  2013-11-15  /  101299\n",
      "Chungking Express  /  1994-07-14  /  11104\n",
      "The Super Mario Bros. Movie  /  2023-04-05  /  502356\n",
      "Scream VI  /  2023-03-08  /  934433\n",
      "Saw  /  2004-10-01  /  176\n",
      "The Little Mermaid  /  2023-05-18  /  447277\n",
      "Spider-Man: Across the Spider-Verse  /  2023-05-31  /  569094\n",
      "Mean Girls  /  2004-04-30  /  10625\n",
      "The Redeem Team  /  2022-10-07  /  1018648\n",
      "Searching  /  2018-08-24  /  489999\n",
      "La La Land  /  2016-11-29  /  313369\n",
      "Bird Box Barcelona  /  2023-07-14  /  805320\n",
      "To All the Boys I've Loved Before  /  2018-08-16  /  466282\n",
      "Barbie  /  2023-07-19  /  346698\n",
      "Oppenheimer  /  2023-07-19  /  872585\n",
      "High School Musical  /  2006-01-20  /  10947\n",
      "Get Out  /  2017-02-24  /  419430\n",
      "The Dark Knight  /  2008-07-16  /  155\n",
      "My Sister's Keeper  /  2009-06-26  /  10024\n",
      "Bodies Bodies Bodies  /  2022-08-05  /  520023\n",
      "The Shining  /  1980-05-23  /  694\n",
      "Barbie  /  2023-07-19  /  346698\n",
      "Scream  /  1996-12-20  /  4232\n",
      "You Are So Not Invited to My Bat Mitzvah  /  2023-08-18  /  999644\n",
      "Five Nights at Freddy's  /  2023-10-25  /  507089\n",
      "She's Dating the Gangster  /  2014-07-16  /  282761\n",
      "Wonka  /  2023-12-06  /  787699\n",
      "The Hunger Games  /  2012-03-12  /  70160\n",
      "The Iron Claw  /  2023-12-21  /  850165\n",
      "The Wailing  /  2016-05-12  /  293670\n",
      "Paddington 2  /  2017-11-09  /  346648\n",
      "Ocean's Eleven  /  2001-12-07  /  161\n",
      "Dune: Part Two  /  2024-02-27  /  693134\n",
      "Bodies Bodies Bodies  /  2022-08-05  /  520023\n",
      "Princess Mononoke  /  1997-07-12  /  128\n",
      "Civil War  /  2024-04-10  /  929590\n",
      "Challengers  /  2024-04-18  /  937287\n",
      "The Idea of You  /  2024-05-02  /  843527\n",
      "Dear Zachary: A Letter to a Son About His Father  /  2008-10-31  /  15584\n",
      "The Cove  /  2009-07-31  /  23128\n",
      "The Alpinist  /  2021-02-07  /  682587\n",
      "The Hunger Games: Catching Fire  /  2013-11-15  /  101299\n",
      "Inside Out 2  /  2024-06-11  /  1022789\n",
      "Tell Them You Love Me  /  2023-11-01  /  1153419\n",
      "Diary of a Wimpy Kid: Rodrick Rules  /  2011-03-25  /  60307\n",
      "Longlegs  /  2024-07-10  /  1226578\n",
      "Naruto 20th Anniversary - Road of Naruto  /  2022-10-02  /  1031396\n",
      "Boruto: Naruto the Movie  /  2015-08-07  /  347201\n",
      "Twisters  /  2024-07-10  /  718821\n",
      "Total Number of Films:  188\n"
     ]
    }
   ],
   "source": [
    "# Use tmdb.Search to get their ID\n",
    "total_films = 0\n",
    "\n",
    "for film, year in zip(titles, release_years):\n",
    "    response = search.movie(query = film, year = year)\n",
    "    for value in response['results']:\n",
    "        if value['title'] == film:\n",
    "            print(value['title'],\" / \",\n",
    "                 value['release_date'],\" / \",\n",
    "                 value['id'])\n",
    "            \n",
    "            total_films += 1    \n",
    "            break\n",
    "            \n",
    "print(\"Total Number of Films: \", total_films)"
   ]
  },
  {
   "cell_type": "code",
   "execution_count": 10,
   "id": "a0cda0a9",
   "metadata": {
    "execution": {
     "iopub.execute_input": "2024-09-05T19:51:06.102943Z",
     "iopub.status.busy": "2024-09-05T19:51:06.102543Z",
     "iopub.status.idle": "2024-09-05T19:51:17.061559Z",
     "shell.execute_reply": "2024-09-05T19:51:17.060294Z"
    },
    "papermill": {
     "duration": 10.983338,
     "end_time": "2024-09-05T19:51:17.064280",
     "exception": false,
     "start_time": "2024-09-05T19:51:06.080942",
     "status": "completed"
    },
    "tags": []
   },
   "outputs": [
    {
     "name": "stdout",
     "output_type": "stream",
     "text": [
      "[496243, 419430, 129, 458723, 315635, 150540, 354912, 673, 372058, 110420, 37797, 92321, 572154, 255709, 158445, 64682, 316029, 14836, 499932, 454983, 492188, 493922, 470044, 274, 617505, 1949, 333099, 613504, 205596, 37799, 68734, 1930, 102382, 324786, 302401, 291805, 318846, 774372, 739269, 761163, 556984, 591273, 4951, 515001, 83666, 155, 146233, 429200, 84892, 454983, 521777, 458723, 727745, 271110, 439079, 521029, 324857, 1592, 4552, 674, 177572, 372754, 37799, 346364, 4951, 1930, 37707, 438631, 897429, 537116, 634649, 558, 559, 537116, 331482, 8363, 50646, 396371, 414906, 810693, 82693, 4347, 466282, 10494, 18329, 81481, 347201, 361743, 787, 212716, 161, 11247, 36728, 138843, 400928, 762504, 116149, 511809, 280092, 578, 929170, 614934, 244786, 466282, 329865, 19913, 614409, 565426, 567609, 210577, 396535, 43949, 10096, 164558, 1022102, 376660, 81250, 9297, 508965, 1038198, 493922, 384677, 4348, 675, 674, 767, 12445, 12444, 913290, 315162, 545611, 13649, 745, 37799, 338967, 4232, 19908, 646385, 466282, 101299, 11104, 502356, 934433, 176, 447277, 569094, 10625, 1018648, 489999, 313369, 805320, 466282, 346698, 872585, 10947, 419430, 155, 10024, 520023, 694, 346698, 4232, 999644, 507089, 282761, 787699, 70160, 850165, 293670, 346648, 161, 693134, 520023, 128, 929590, 937287, 843527, 15584, 23128, 682587, 101299, 1022789, 1153419, 60307, 1226578, 1031396, 347201, 718821]\n",
      "Total Number of Films with ID:  188\n"
     ]
    }
   ],
   "source": [
    "movie_id = []\n",
    "result_count = 0\n",
    "\n",
    "for film, year in zip(titles, release_years):\n",
    "    response = search.movie(query = film, year = year)\n",
    "    for value in response['results']:\n",
    "        if value['title'] == film:\n",
    "            movie_id.append(value['id'])\n",
    "            result_count += 1\n",
    "            break\n",
    "print(movie_id)\n",
    "print(\"Total Number of Films with ID: \", result_count)"
   ]
  },
  {
   "cell_type": "markdown",
   "id": "58e21b4d",
   "metadata": {
    "papermill": {
     "duration": 0.019089,
     "end_time": "2024-09-05T19:51:17.104001",
     "exception": false,
     "start_time": "2024-09-05T19:51:17.084912",
     "status": "completed"
    },
    "tags": []
   },
   "source": [
    "Since we have 201 total entries but only 188 films with IDs, this must mean the remaining are TV shows or short films. We will separate the TV shows."
   ]
  },
  {
   "cell_type": "code",
   "execution_count": 11,
   "id": "f032ad98",
   "metadata": {
    "execution": {
     "iopub.execute_input": "2024-09-05T19:51:17.145667Z",
     "iopub.status.busy": "2024-09-05T19:51:17.144839Z",
     "iopub.status.idle": "2024-09-05T19:51:21.612592Z",
     "shell.execute_reply": "2024-09-05T19:51:21.611139Z"
    },
    "papermill": {
     "duration": 4.492023,
     "end_time": "2024-09-05T19:51:21.614984",
     "exception": false,
     "start_time": "2024-09-05T19:51:17.122961",
     "status": "completed"
    },
    "tags": []
   },
   "outputs": [
    {
     "name": "stdout",
     "output_type": "stream",
     "text": [
      "Rascal Does Not Dream of Bunny Girl Senpai 2018 0\n",
      "DARLING in the FRANXX 2018 0\n",
      "Black Mirror: Demon 79 2023 0\n",
      "Black Mirror: Hang the DJ 2017 0\n",
      "Black Mirror: Rachel, Jack and Ashley Too 2019 0\n",
      "The Jinx: The Life and Deaths of Robert Durst 2015 0\n",
      "The Undoing 2020 0\n",
      " Zero Search:  7\n",
      "['Rascal Does Not Dream of Bunny Girl Senpai', 'DARLING in the FRANXX', 'Black Mirror: Demon 79', 'Black Mirror: Hang the DJ', 'Black Mirror: Rachel, Jack and Ashley Too', 'The Jinx: The Life and Deaths of Robert Durst', 'The Undoing']\n",
      "[2018, 2018, 2023, 2017, 2019, 2015, 2020]\n"
     ]
    }
   ],
   "source": [
    "zero_search = 0 # for number of results with no ID\n",
    "tv_title = []\n",
    "tv_year = []\n",
    "\n",
    "for show, year in zip(titles, release_years):\n",
    "    response = search.movie(query=show, year=year)\n",
    "    if (len(response['results'])) == 0:\n",
    "        tv_title.append(show)\n",
    "        tv_year.append(year)\n",
    "        print(show, year, len(response['results']))\n",
    "        zero_search += 1\n",
    "print(\" Zero Search: \", zero_search)\n",
    "print(tv_title)\n",
    "print(tv_year)"
   ]
  },
  {
   "cell_type": "code",
   "execution_count": 12,
   "id": "993b43c9",
   "metadata": {
    "execution": {
     "iopub.execute_input": "2024-09-05T19:51:21.656435Z",
     "iopub.status.busy": "2024-09-05T19:51:21.656034Z",
     "iopub.status.idle": "2024-09-05T19:51:23.248507Z",
     "shell.execute_reply": "2024-09-05T19:51:23.246798Z"
    },
    "papermill": {
     "duration": 1.616675,
     "end_time": "2024-09-05T19:51:23.251392",
     "exception": false,
     "start_time": "2024-09-05T19:51:21.634717",
     "status": "completed"
    },
    "tags": []
   },
   "outputs": [
    {
     "name": "stdout",
     "output_type": "stream",
     "text": [
      "Results count:  4\n"
     ]
    }
   ],
   "source": [
    "total_shows = 0\n",
    "tv_id = []\n",
    "\n",
    "for show, year in zip(tv_title, tv_year):\n",
    "    response = search.tv(query = show, year = year)\n",
    "    for value in response['results']:\n",
    "        if value['name'] == show:\n",
    "            tv_id.append(value['id'])\n",
    "            total_shows += 1\n",
    "\n",
    "print(\"Results count: \", total_shows)"
   ]
  },
  {
   "cell_type": "markdown",
   "id": "2650a135",
   "metadata": {
    "papermill": {
     "duration": 0.020482,
     "end_time": "2024-09-05T19:51:23.291307",
     "exception": false,
     "start_time": "2024-09-05T19:51:23.270825",
     "status": "completed"
    },
    "tags": []
   },
   "source": [
    "As a summary, we started with 201 entries. There are 188 films with ID. 7/13 of the missing entries are TV shows or episodes with only 4/7 of them having IDs. Thus, the remaining 6 are short films."
   ]
  },
  {
   "cell_type": "code",
   "execution_count": 13,
   "id": "429a3279",
   "metadata": {
    "execution": {
     "iopub.execute_input": "2024-09-05T19:51:23.335270Z",
     "iopub.status.busy": "2024-09-05T19:51:23.334851Z",
     "iopub.status.idle": "2024-09-05T19:52:00.946495Z",
     "shell.execute_reply": "2024-09-05T19:52:00.945043Z"
    },
    "papermill": {
     "duration": 37.654527,
     "end_time": "2024-09-05T19:52:00.967718",
     "exception": false,
     "start_time": "2024-09-05T19:51:23.313191",
     "status": "completed"
    },
    "tags": []
   },
   "outputs": [
    {
     "name": "stdout",
     "output_type": "stream",
     "text": [
      "188\n"
     ]
    }
   ],
   "source": [
    "movie_info = []\n",
    "\n",
    "for movie in movie_id:\n",
    "    movie = tmdb.Movies(movie)\n",
    "    response = movie.info()\n",
    "    movie_info.append([movie.id, movie.title, movie.spoken_languages, movie.genres ,movie.runtime,\n",
    "                      movie.release_date, movie.vote_count,  movie.vote_average])\n",
    "    \n",
    "print(len(movie_info))"
   ]
  },
  {
   "cell_type": "code",
   "execution_count": 14,
   "id": "d024a75f",
   "metadata": {
    "execution": {
     "iopub.execute_input": "2024-09-05T19:52:01.008240Z",
     "iopub.status.busy": "2024-09-05T19:52:01.007825Z",
     "iopub.status.idle": "2024-09-05T19:52:01.910745Z",
     "shell.execute_reply": "2024-09-05T19:52:01.909275Z"
    },
    "papermill": {
     "duration": 0.926718,
     "end_time": "2024-09-05T19:52:01.913681",
     "exception": false,
     "start_time": "2024-09-05T19:52:00.986963",
     "status": "completed"
    },
    "tags": []
   },
   "outputs": [
    {
     "name": "stdout",
     "output_type": "stream",
     "text": [
      "4\n"
     ]
    }
   ],
   "source": [
    "tv_info = []\n",
    "\n",
    "for show in tv_id:\n",
    "    tv = tmdb.TV(show)\n",
    "    response = tv.info()\n",
    "    tv_info.append([tv.id, tv.name, tv.genres, \n",
    "                   tv.spoken_languages, tv.episode_run_time,\n",
    "                   tv.first_air_date, tv.number_of_seasons, \n",
    "                   tv.number_of_episodes, tv.vote_count, tv.vote_average])\n",
    "    \n",
    "print(len(tv_info))"
   ]
  },
  {
   "cell_type": "code",
   "execution_count": 15,
   "id": "cae15c2b",
   "metadata": {
    "execution": {
     "iopub.execute_input": "2024-09-05T19:52:01.956987Z",
     "iopub.status.busy": "2024-09-05T19:52:01.956633Z",
     "iopub.status.idle": "2024-09-05T19:52:01.984282Z",
     "shell.execute_reply": "2024-09-05T19:52:01.983243Z"
    },
    "papermill": {
     "duration": 0.052412,
     "end_time": "2024-09-05T19:52:01.986699",
     "exception": false,
     "start_time": "2024-09-05T19:52:01.934287",
     "status": "completed"
    },
    "tags": []
   },
   "outputs": [
    {
     "data": {
      "text/html": [
       "<div>\n",
       "<style scoped>\n",
       "    .dataframe tbody tr th:only-of-type {\n",
       "        vertical-align: middle;\n",
       "    }\n",
       "\n",
       "    .dataframe tbody tr th {\n",
       "        vertical-align: top;\n",
       "    }\n",
       "\n",
       "    .dataframe thead th {\n",
       "        text-align: right;\n",
       "    }\n",
       "</style>\n",
       "<table border=\"1\" class=\"dataframe\">\n",
       "  <thead>\n",
       "    <tr style=\"text-align: right;\">\n",
       "      <th></th>\n",
       "      <th>ID</th>\n",
       "      <th>title</th>\n",
       "      <th>languages</th>\n",
       "      <th>genres</th>\n",
       "      <th>runtime</th>\n",
       "      <th>release_date</th>\n",
       "      <th>vote_count</th>\n",
       "      <th>vote_average</th>\n",
       "    </tr>\n",
       "  </thead>\n",
       "  <tbody>\n",
       "    <tr>\n",
       "      <th>0</th>\n",
       "      <td>496243</td>\n",
       "      <td>Parasite</td>\n",
       "      <td>[{'english_name': 'English', 'iso_639_1': 'en'...</td>\n",
       "      <td>[{'id': 35, 'name': 'Comedy'}, {'id': 53, 'nam...</td>\n",
       "      <td>133</td>\n",
       "      <td>2019-05-30</td>\n",
       "      <td>17972</td>\n",
       "      <td>8.500</td>\n",
       "    </tr>\n",
       "    <tr>\n",
       "      <th>1</th>\n",
       "      <td>419430</td>\n",
       "      <td>Get Out</td>\n",
       "      <td>[{'english_name': 'English', 'iso_639_1': 'en'...</td>\n",
       "      <td>[{'id': 9648, 'name': 'Mystery'}, {'id': 53, '...</td>\n",
       "      <td>104</td>\n",
       "      <td>2017-02-24</td>\n",
       "      <td>17130</td>\n",
       "      <td>7.622</td>\n",
       "    </tr>\n",
       "    <tr>\n",
       "      <th>2</th>\n",
       "      <td>129</td>\n",
       "      <td>Spirited Away</td>\n",
       "      <td>[{'english_name': 'Japanese', 'iso_639_1': 'ja...</td>\n",
       "      <td>[{'id': 16, 'name': 'Animation'}, {'id': 10751...</td>\n",
       "      <td>125</td>\n",
       "      <td>2001-07-20</td>\n",
       "      <td>16285</td>\n",
       "      <td>8.500</td>\n",
       "    </tr>\n",
       "    <tr>\n",
       "      <th>3</th>\n",
       "      <td>458723</td>\n",
       "      <td>Us</td>\n",
       "      <td>[{'english_name': 'English', 'iso_639_1': 'en'...</td>\n",
       "      <td>[{'id': 27, 'name': 'Horror'}, {'id': 53, 'nam...</td>\n",
       "      <td>116</td>\n",
       "      <td>2019-03-14</td>\n",
       "      <td>7212</td>\n",
       "      <td>6.970</td>\n",
       "    </tr>\n",
       "    <tr>\n",
       "      <th>4</th>\n",
       "      <td>315635</td>\n",
       "      <td>Spider-Man: Homecoming</td>\n",
       "      <td>[{'english_name': 'English', 'iso_639_1': 'en'...</td>\n",
       "      <td>[{'id': 28, 'name': 'Action'}, {'id': 12, 'nam...</td>\n",
       "      <td>133</td>\n",
       "      <td>2017-07-05</td>\n",
       "      <td>21515</td>\n",
       "      <td>7.338</td>\n",
       "    </tr>\n",
       "  </tbody>\n",
       "</table>\n",
       "</div>"
      ],
      "text/plain": [
       "       ID                   title  \\\n",
       "0  496243                Parasite   \n",
       "1  419430                 Get Out   \n",
       "2     129           Spirited Away   \n",
       "3  458723                      Us   \n",
       "4  315635  Spider-Man: Homecoming   \n",
       "\n",
       "                                           languages  \\\n",
       "0  [{'english_name': 'English', 'iso_639_1': 'en'...   \n",
       "1  [{'english_name': 'English', 'iso_639_1': 'en'...   \n",
       "2  [{'english_name': 'Japanese', 'iso_639_1': 'ja...   \n",
       "3  [{'english_name': 'English', 'iso_639_1': 'en'...   \n",
       "4  [{'english_name': 'English', 'iso_639_1': 'en'...   \n",
       "\n",
       "                                              genres  runtime release_date  \\\n",
       "0  [{'id': 35, 'name': 'Comedy'}, {'id': 53, 'nam...      133   2019-05-30   \n",
       "1  [{'id': 9648, 'name': 'Mystery'}, {'id': 53, '...      104   2017-02-24   \n",
       "2  [{'id': 16, 'name': 'Animation'}, {'id': 10751...      125   2001-07-20   \n",
       "3  [{'id': 27, 'name': 'Horror'}, {'id': 53, 'nam...      116   2019-03-14   \n",
       "4  [{'id': 28, 'name': 'Action'}, {'id': 12, 'nam...      133   2017-07-05   \n",
       "\n",
       "   vote_count  vote_average  \n",
       "0       17972         8.500  \n",
       "1       17130         7.622  \n",
       "2       16285         8.500  \n",
       "3        7212         6.970  \n",
       "4       21515         7.338  "
      ]
     },
     "execution_count": 15,
     "metadata": {},
     "output_type": "execute_result"
    }
   ],
   "source": [
    "# Convert into dataframes and export as .csv files\n",
    "\n",
    "movie_df = pd.DataFrame(movie_info, columns = ['ID', 'title', 'languages', 'genres','runtime',\n",
    "                                               'release_date', 'vote_count', 'vote_average'])\n",
    "\n",
    "movie_df.head()"
   ]
  },
  {
   "cell_type": "code",
   "execution_count": 16,
   "id": "85a9d067",
   "metadata": {
    "execution": {
     "iopub.execute_input": "2024-09-05T19:52:02.029738Z",
     "iopub.status.busy": "2024-09-05T19:52:02.029352Z",
     "iopub.status.idle": "2024-09-05T19:52:02.055219Z",
     "shell.execute_reply": "2024-09-05T19:52:02.053964Z"
    },
    "papermill": {
     "duration": 0.04972,
     "end_time": "2024-09-05T19:52:02.057944",
     "exception": false,
     "start_time": "2024-09-05T19:52:02.008224",
     "status": "completed"
    },
    "tags": []
   },
   "outputs": [
    {
     "data": {
      "text/html": [
       "<div>\n",
       "<style scoped>\n",
       "    .dataframe tbody tr th:only-of-type {\n",
       "        vertical-align: middle;\n",
       "    }\n",
       "\n",
       "    .dataframe tbody tr th {\n",
       "        vertical-align: top;\n",
       "    }\n",
       "\n",
       "    .dataframe thead th {\n",
       "        text-align: right;\n",
       "    }\n",
       "</style>\n",
       "<table border=\"1\" class=\"dataframe\">\n",
       "  <thead>\n",
       "    <tr style=\"text-align: right;\">\n",
       "      <th></th>\n",
       "      <th>ID</th>\n",
       "      <th>title</th>\n",
       "      <th>genres</th>\n",
       "      <th>languages</th>\n",
       "      <th>ep_runtime</th>\n",
       "      <th>first_air_date</th>\n",
       "      <th>total_seasons</th>\n",
       "      <th>total_eps</th>\n",
       "      <th>vote_count</th>\n",
       "      <th>vote_average</th>\n",
       "    </tr>\n",
       "  </thead>\n",
       "  <tbody>\n",
       "    <tr>\n",
       "      <th>0</th>\n",
       "      <td>82739</td>\n",
       "      <td>Rascal Does Not Dream of Bunny Girl Senpai</td>\n",
       "      <td>[{'id': 16, 'name': 'Animation'}, {'id': 35, '...</td>\n",
       "      <td>[{'english_name': 'Japanese', 'iso_639_1': 'ja...</td>\n",
       "      <td>[24]</td>\n",
       "      <td>2018-10-04</td>\n",
       "      <td>2</td>\n",
       "      <td>13</td>\n",
       "      <td>1177</td>\n",
       "      <td>8.567</td>\n",
       "    </tr>\n",
       "    <tr>\n",
       "      <th>1</th>\n",
       "      <td>76121</td>\n",
       "      <td>DARLING in the FRANXX</td>\n",
       "      <td>[{'id': 16, 'name': 'Animation'}]</td>\n",
       "      <td>[{'english_name': 'Japanese', 'iso_639_1': 'ja...</td>\n",
       "      <td>[24]</td>\n",
       "      <td>2018-01-13</td>\n",
       "      <td>1</td>\n",
       "      <td>24</td>\n",
       "      <td>1743</td>\n",
       "      <td>8.564</td>\n",
       "    </tr>\n",
       "    <tr>\n",
       "      <th>2</th>\n",
       "      <td>61929</td>\n",
       "      <td>The Jinx: The Life and Deaths of Robert Durst</td>\n",
       "      <td>[{'id': 99, 'name': 'Documentary'}, {'id': 80,...</td>\n",
       "      <td>[{'english_name': 'English', 'iso_639_1': 'en'...</td>\n",
       "      <td>[]</td>\n",
       "      <td>2015-02-08</td>\n",
       "      <td>2</td>\n",
       "      <td>12</td>\n",
       "      <td>430</td>\n",
       "      <td>7.991</td>\n",
       "    </tr>\n",
       "    <tr>\n",
       "      <th>3</th>\n",
       "      <td>83851</td>\n",
       "      <td>The Undoing</td>\n",
       "      <td>[{'id': 18, 'name': 'Drama'}, {'id': 80, 'name...</td>\n",
       "      <td>[{'english_name': 'English', 'iso_639_1': 'en'...</td>\n",
       "      <td>[60]</td>\n",
       "      <td>2020-10-25</td>\n",
       "      <td>1</td>\n",
       "      <td>6</td>\n",
       "      <td>691</td>\n",
       "      <td>7.415</td>\n",
       "    </tr>\n",
       "  </tbody>\n",
       "</table>\n",
       "</div>"
      ],
      "text/plain": [
       "      ID                                          title  \\\n",
       "0  82739     Rascal Does Not Dream of Bunny Girl Senpai   \n",
       "1  76121                          DARLING in the FRANXX   \n",
       "2  61929  The Jinx: The Life and Deaths of Robert Durst   \n",
       "3  83851                                    The Undoing   \n",
       "\n",
       "                                              genres  \\\n",
       "0  [{'id': 16, 'name': 'Animation'}, {'id': 35, '...   \n",
       "1                  [{'id': 16, 'name': 'Animation'}]   \n",
       "2  [{'id': 99, 'name': 'Documentary'}, {'id': 80,...   \n",
       "3  [{'id': 18, 'name': 'Drama'}, {'id': 80, 'name...   \n",
       "\n",
       "                                           languages ep_runtime  \\\n",
       "0  [{'english_name': 'Japanese', 'iso_639_1': 'ja...       [24]   \n",
       "1  [{'english_name': 'Japanese', 'iso_639_1': 'ja...       [24]   \n",
       "2  [{'english_name': 'English', 'iso_639_1': 'en'...         []   \n",
       "3  [{'english_name': 'English', 'iso_639_1': 'en'...       [60]   \n",
       "\n",
       "  first_air_date  total_seasons  total_eps  vote_count  vote_average  \n",
       "0     2018-10-04              2         13        1177         8.567  \n",
       "1     2018-01-13              1         24        1743         8.564  \n",
       "2     2015-02-08              2         12         430         7.991  \n",
       "3     2020-10-25              1          6         691         7.415  "
      ]
     },
     "execution_count": 16,
     "metadata": {},
     "output_type": "execute_result"
    }
   ],
   "source": [
    "tv_df = pd.DataFrame(tv_info, columns = ['ID', 'title', 'genres', 'languages', 'ep_runtime',\n",
    "                                        'first_air_date', 'total_seasons', 'total_eps', 'vote_count',\n",
    "                                        'vote_average'])\n",
    "\n",
    "tv_df.head()"
   ]
  },
  {
   "cell_type": "code",
   "execution_count": 17,
   "id": "e25500a2",
   "metadata": {
    "execution": {
     "iopub.execute_input": "2024-09-05T19:52:02.099935Z",
     "iopub.status.busy": "2024-09-05T19:52:02.099513Z",
     "iopub.status.idle": "2024-09-05T19:52:02.117997Z",
     "shell.execute_reply": "2024-09-05T19:52:02.116420Z"
    },
    "papermill": {
     "duration": 0.042752,
     "end_time": "2024-09-05T19:52:02.120751",
     "exception": false,
     "start_time": "2024-09-05T19:52:02.077999",
     "status": "completed"
    },
    "tags": []
   },
   "outputs": [
    {
     "name": "stdout",
     "output_type": "stream",
     "text": [
      "Exported movies succesfully!\n",
      "Exported TV shows successfully!\n"
     ]
    }
   ],
   "source": [
    "# export into .csv files\n",
    "\n",
    "movie_df.to_csv('watchedmovies.csv')\n",
    "print(\"Exported movies succesfully!\")\n",
    "\n",
    "tv_df.to_csv('watchedTV.csv')\n",
    "print(\"Exported TV shows successfully!\")"
   ]
  },
  {
   "cell_type": "markdown",
   "id": "dc829552",
   "metadata": {
    "papermill": {
     "duration": 0.022611,
     "end_time": "2024-09-05T19:52:02.166063",
     "exception": false,
     "start_time": "2024-09-05T19:52:02.143452",
     "status": "completed"
    },
    "tags": []
   },
   "source": [
    "# Analyzing the overall data"
   ]
  },
  {
   "cell_type": "code",
   "execution_count": 18,
   "id": "55cd7299",
   "metadata": {
    "execution": {
     "iopub.execute_input": "2024-09-05T19:52:02.212017Z",
     "iopub.status.busy": "2024-09-05T19:52:02.211641Z",
     "iopub.status.idle": "2024-09-05T19:52:02.221626Z",
     "shell.execute_reply": "2024-09-05T19:52:02.220307Z"
    },
    "papermill": {
     "duration": 0.034685,
     "end_time": "2024-09-05T19:52:02.224628",
     "exception": false,
     "start_time": "2024-09-05T19:52:02.189943",
     "status": "completed"
    },
    "tags": []
   },
   "outputs": [
    {
     "name": "stdout",
     "output_type": "stream",
     "text": [
      "Number of films reviewed: 151\n"
     ]
    }
   ],
   "source": [
    "# How many did I review?\n",
    "\n",
    "q = \"\"\"\n",
    "    SELECT COUNT(*) FROM reviewed\n",
    "    \"\"\"\n",
    "reviewed.to_sql('reviewed', connection, if_exists='replace', index=False)\n",
    "result= pd.read_sql_query(q, connection)\n",
    "print(f\"Number of films reviewed: {result.iloc[0,0]}\")\n"
   ]
  },
  {
   "cell_type": "code",
   "execution_count": 19,
   "id": "5db1c005",
   "metadata": {
    "execution": {
     "iopub.execute_input": "2024-09-05T19:52:02.266712Z",
     "iopub.status.busy": "2024-09-05T19:52:02.266348Z",
     "iopub.status.idle": "2024-09-05T19:52:02.276009Z",
     "shell.execute_reply": "2024-09-05T19:52:02.274568Z"
    },
    "papermill": {
     "duration": 0.033352,
     "end_time": "2024-09-05T19:52:02.278150",
     "exception": false,
     "start_time": "2024-09-05T19:52:02.244798",
     "status": "completed"
    },
    "tags": []
   },
   "outputs": [
    {
     "name": "stdout",
     "output_type": "stream",
     "text": [
      "Number of films liked: 35\n"
     ]
    }
   ],
   "source": [
    "# How many did I like?\n",
    "\n",
    "q3 = \"\"\"\n",
    "    SELECT COUNT(*) FROM liked_films\n",
    "    \"\"\"\n",
    "liked_films.to_sql('liked_films', connection, if_exists='replace', index=False)\n",
    "result = pd.read_sql_query(q3, connection)\n",
    "print(f\"Number of films liked: {result.iloc[0,0]}\")"
   ]
  },
  {
   "cell_type": "code",
   "execution_count": 20,
   "id": "6a027bcc",
   "metadata": {
    "execution": {
     "iopub.execute_input": "2024-09-05T19:52:02.321136Z",
     "iopub.status.busy": "2024-09-05T19:52:02.320746Z",
     "iopub.status.idle": "2024-09-05T19:52:02.334393Z",
     "shell.execute_reply": "2024-09-05T19:52:02.332654Z"
    },
    "papermill": {
     "duration": 0.038291,
     "end_time": "2024-09-05T19:52:02.337267",
     "exception": false,
     "start_time": "2024-09-05T19:52:02.298976",
     "status": "completed"
    },
    "tags": []
   },
   "outputs": [
    {
     "name": "stdout",
     "output_type": "stream",
     "text": [
      "   Rating  number_of_films\n",
      "0     NaN                6\n",
      "1     0.5                1\n",
      "2     1.0                3\n",
      "3     2.0               11\n",
      "4     2.5                6\n",
      "5     3.0               32\n",
      "6     3.5               33\n",
      "7     4.0               45\n",
      "8     4.5               32\n",
      "9     5.0               32\n"
     ]
    }
   ],
   "source": [
    "# How are the ratings spread?\n",
    "\n",
    "q4 = \"\"\"\n",
    "    SELECT rating, COUNT(*) as number_of_films\n",
    "    FROM watched\n",
    "    GROUP BY Rating\n",
    "    ORDER BY Rating\n",
    "     \"\"\"\n",
    "watched.to_sql('watched', connection, if_exists='replace', index=False)\n",
    "ratings_spread = pd.read_sql_query(q4, connection)\n",
    "print(ratings_spread)"
   ]
  },
  {
   "cell_type": "code",
   "execution_count": 21,
   "id": "697f04a0",
   "metadata": {
    "execution": {
     "iopub.execute_input": "2024-09-05T19:52:02.379985Z",
     "iopub.status.busy": "2024-09-05T19:52:02.379629Z",
     "iopub.status.idle": "2024-09-05T19:52:02.388450Z",
     "shell.execute_reply": "2024-09-05T19:52:02.387312Z"
    },
    "papermill": {
     "duration": 0.033001,
     "end_time": "2024-09-05T19:52:02.390918",
     "exception": false,
     "start_time": "2024-09-05T19:52:02.357917",
     "status": "completed"
    },
    "tags": []
   },
   "outputs": [
    {
     "name": "stdout",
     "output_type": "stream",
     "text": [
      "  Rewatch  COUNT(*)\n",
      "0    None       177\n",
      "1     Yes        24\n"
     ]
    }
   ],
   "source": [
    "# How many have I rewatched?\n",
    "\n",
    "q5 = \"\"\"\n",
    "     SELECT Rewatch, COUNT(*)\n",
    "     FROM watched\n",
    "     GROUP BY Rewatch\n",
    "     \"\"\"\n",
    "\n",
    "movies_rewatched = pd.read_sql_query(q5, connection)\n",
    "print(movies_rewatched)"
   ]
  },
  {
   "cell_type": "markdown",
   "id": "7ae111ea",
   "metadata": {
    "papermill": {
     "duration": 0.021136,
     "end_time": "2024-09-05T19:52:02.432494",
     "exception": false,
     "start_time": "2024-09-05T19:52:02.411358",
     "status": "completed"
    },
    "tags": []
   },
   "source": [
    "# Analyzing films"
   ]
  },
  {
   "cell_type": "code",
   "execution_count": 22,
   "id": "37b5fa4a",
   "metadata": {
    "execution": {
     "iopub.execute_input": "2024-09-05T19:52:02.538970Z",
     "iopub.status.busy": "2024-09-05T19:52:02.538603Z",
     "iopub.status.idle": "2024-09-05T19:52:02.547523Z",
     "shell.execute_reply": "2024-09-05T19:52:02.546300Z"
    },
    "papermill": {
     "duration": 0.033873,
     "end_time": "2024-09-05T19:52:02.550034",
     "exception": false,
     "start_time": "2024-09-05T19:52:02.516161",
     "status": "completed"
    },
    "tags": []
   },
   "outputs": [],
   "source": [
    "films = pd.read_csv('watchedmovies.csv')"
   ]
  },
  {
   "cell_type": "code",
   "execution_count": 23,
   "id": "379fef6c",
   "metadata": {
    "execution": {
     "iopub.execute_input": "2024-09-05T19:52:02.593585Z",
     "iopub.status.busy": "2024-09-05T19:52:02.593186Z",
     "iopub.status.idle": "2024-09-05T19:52:02.604270Z",
     "shell.execute_reply": "2024-09-05T19:52:02.603074Z"
    },
    "papermill": {
     "duration": 0.036109,
     "end_time": "2024-09-05T19:52:02.606576",
     "exception": false,
     "start_time": "2024-09-05T19:52:02.570467",
     "status": "completed"
    },
    "tags": []
   },
   "outputs": [
    {
     "name": "stdout",
     "output_type": "stream",
     "text": [
      "Number of minutes watched: 21661\n"
     ]
    }
   ],
   "source": [
    "# How many minutes did I spend watching films?\n",
    "\n",
    "q6 = \"\"\"\n",
    "    SELECT SUM(runtime)\n",
    "    FROM films\n",
    "     \"\"\"\n",
    "\n",
    "films.to_sql('films', connection, if_exists='replace', index=False)\n",
    "minutes_watched = pd.read_sql_query(q6, connection)\n",
    "print(f\"Number of minutes watched: {minutes_watched.iloc[0,0]}\")"
   ]
  },
  {
   "cell_type": "code",
   "execution_count": 24,
   "id": "79433f4d",
   "metadata": {
    "execution": {
     "iopub.execute_input": "2024-09-05T19:52:02.651038Z",
     "iopub.status.busy": "2024-09-05T19:52:02.650638Z",
     "iopub.status.idle": "2024-09-05T19:52:02.689679Z",
     "shell.execute_reply": "2024-09-05T19:52:02.688383Z"
    },
    "papermill": {
     "duration": 0.064449,
     "end_time": "2024-09-05T19:52:02.692456",
     "exception": false,
     "start_time": "2024-09-05T19:52:02.628007",
     "status": "completed"
    },
    "tags": []
   },
   "outputs": [
    {
     "name": "stdout",
     "output_type": "stream",
     "text": [
      "                                     genre  number_of_films\n",
      "0              {'id': 18, 'name': 'Drama'}               77\n",
      "1             {'id': 35, 'name': 'Comedy'}               60\n",
      "2          {'id': 12, 'name': 'Adventure'}               42\n",
      "3         {'id': 10749, 'name': 'Romance'}               39\n",
      "4           {'id': 53, 'name': 'Thriller'}               38\n",
      "5             {'id': 27, 'name': 'Horror'}               35\n",
      "6             {'id': 28, 'name': 'Action'}               27\n",
      "7          {'id': 9648, 'name': 'Mystery'}               25\n",
      "8          {'id': 16, 'name': 'Animation'}               25\n",
      "9            {'id': 14, 'name': 'Fantasy'}               25\n",
      "10             {'id': 80, 'name': 'Crime'}               24\n",
      "11         {'id': 10751, 'name': 'Family'}               22\n",
      "12  {'id': 878, 'name': 'Science Fiction'}               20\n",
      "13          {'id': 10402, 'name': 'Music'}               13\n",
      "14       {'id': 99, 'name': 'Documentary'}               10\n",
      "15           {'id': 36, 'name': 'History'}                8\n",
      "16            {'id': 10752, 'name': 'War'}                4\n",
      "17       {'id': 10770, 'name': 'TV Movie'}                3\n"
     ]
    }
   ],
   "source": [
    "# How many times did each genre appear?\n",
    "\n",
    "from collections import Counter\n",
    "import ast\n",
    "\n",
    "def extract_genres(obj):\n",
    "    if isinstance(obj, str):\n",
    "        return ast.literal_eval(obj)\n",
    "    elif isinstance(obj, list):\n",
    "        return obj\n",
    "    else:\n",
    "        return []\n",
    "\n",
    "\n",
    "films['genres'] = films['genres'].apply(extract_genres)\n",
    "\n",
    "genres_list = []\n",
    "for idx, row in films.iterrows():\n",
    "    title = row['title']\n",
    "    for genre in row['genres']:\n",
    "        genres_list.append((title, genre))\n",
    "        \n",
    "genres_df = pd.DataFrame(genres_list, columns=['title', 'genre'])\n",
    "\n",
    "genres_df['title'] = genres_df['title'].astype(str)\n",
    "genres_df['genre'] = genres_df['genre'].astype(str)\n",
    "\n",
    "connection.execute(\"DROP TABLE IF EXISTS genres_table;\")\n",
    "connection.execute(\"\"\"\n",
    "                   CREATE TABLE genres_table (\n",
    "                   title VARCHAR(255),\n",
    "                   genre VARCHAR(255)\n",
    "                );\n",
    "                   \"\"\")\n",
    "\n",
    "genres_df.to_sql('genres_table', connection, if_exists='append', index=False)\n",
    "\n",
    "q7 = \"\"\"\n",
    "     SELECT genre, COUNT(*) as number_of_films\n",
    "     FROM genres_table\n",
    "     GROUP BY genre\n",
    "     ORDER BY number_of_films DESC;\n",
    "     \"\"\"\n",
    "genres = pd.read_sql_query(q7, connection)\n",
    "print(genres)"
   ]
  },
  {
   "cell_type": "code",
   "execution_count": 25,
   "id": "9c00d7db",
   "metadata": {
    "execution": {
     "iopub.execute_input": "2024-09-05T19:52:02.736703Z",
     "iopub.status.busy": "2024-09-05T19:52:02.736322Z",
     "iopub.status.idle": "2024-09-05T19:52:02.772001Z",
     "shell.execute_reply": "2024-09-05T19:52:02.770418Z"
    },
    "papermill": {
     "duration": 0.060646,
     "end_time": "2024-09-05T19:52:02.774580",
     "exception": false,
     "start_time": "2024-09-05T19:52:02.713934",
     "status": "completed"
    },
    "tags": []
   },
   "outputs": [
    {
     "name": "stdout",
     "output_type": "stream",
     "text": [
      "                                        language_name  number_of_films\n",
      "0   {'english_name': 'English', 'iso_639_1': 'en',...              162\n",
      "1   {'english_name': 'Japanese', 'iso_639_1': 'ja'...               18\n",
      "2   {'english_name': 'Spanish', 'iso_639_1': 'es',...               16\n",
      "3   {'english_name': 'Mandarin', 'iso_639_1': 'zh'...               11\n",
      "4   {'english_name': 'Korean', 'iso_639_1': 'ko', ...               10\n",
      "5   {'english_name': 'French', 'iso_639_1': 'fr', ...                9\n",
      "6   {'english_name': 'German', 'iso_639_1': 'de', ...                7\n",
      "7   {'english_name': 'Cantonese', 'iso_639_1': 'cn...                4\n",
      "8   {'english_name': 'Russian', 'iso_639_1': 'ru',...                3\n",
      "9   {'english_name': 'Romanian', 'iso_639_1': 'ro'...                3\n",
      "10  {'english_name': 'Portuguese', 'iso_639_1': 'p...                3\n",
      "11  {'english_name': 'Italian', 'iso_639_1': 'it',...                3\n",
      "12  {'english_name': 'Tagalog', 'iso_639_1': 'tl',...                2\n",
      "13  {'english_name': 'Latin', 'iso_639_1': 'la', '...                2\n",
      "14  {'english_name': 'Hindi', 'iso_639_1': 'hi', '...                2\n",
      "15  {'english_name': 'Vietnamese', 'iso_639_1': 'v...                1\n",
      "16  {'english_name': 'Urdu', 'iso_639_1': 'ur', 'n...                1\n",
      "17  {'english_name': 'Swedish', 'iso_639_1': 'sv',...                1\n",
      "18  {'english_name': 'Swahili', 'iso_639_1': 'sw',...                1\n",
      "19  {'english_name': 'Punjabi', 'iso_639_1': 'pa',...                1\n",
      "20  {'english_name': 'Persian', 'iso_639_1': 'fa',...                1\n",
      "21  {'english_name': 'Northern Sami', 'iso_639_1':...                1\n",
      "22  {'english_name': 'Dutch', 'iso_639_1': 'nl', '...                1\n",
      "23  {'english_name': 'Czech', 'iso_639_1': 'cs', '...                1\n",
      "24  {'english_name': 'Arabic', 'iso_639_1': 'ar', ...                1\n"
     ]
    }
   ],
   "source": [
    "# What were the most popular languages?\n",
    "def extract_languages(obj):\n",
    "    if isinstance(obj, str):\n",
    "        return ast.literal_eval(obj)\n",
    "    elif isinstance(obj, list):\n",
    "        return obj\n",
    "    else:\n",
    "        return []\n",
    "\n",
    "films['languages'] = films['languages'].apply(extract_languages)\n",
    "\n",
    "languages_list = []\n",
    "for idx, row in films.iterrows():\n",
    "    title = row['title']\n",
    "    for language in row['languages']:\n",
    "        languages_list.append((title, language))\n",
    "        \n",
    "languages_df = pd.DataFrame(languages_list, columns=['title', 'language_name'])\n",
    "\n",
    "languages_df['title'] = languages_df['title'].astype(str)\n",
    "languages_df['language_name'] = languages_df['language_name'].astype(str)\n",
    "\n",
    "connection.execute(\"DROP TABLE IF EXISTS languages_table;\")\n",
    "connection.execute(\"\"\"\n",
    "                   CREATE TABLE languages_table (\n",
    "                   title VARCHAR(255),\n",
    "                   language_name VARCHAR(255)\n",
    "                );\n",
    "                   \"\"\")\n",
    "\n",
    "languages_df.to_sql('languages_table', connection, if_exists='append', index=False)\n",
    "\n",
    "q8 = \"\"\"\n",
    "     SELECT language_name, COUNT(*) as number_of_films\n",
    "     FROM languages_table\n",
    "     GROUP BY language_name\n",
    "     ORDER BY number_of_films DESC;\n",
    "     \"\"\"\n",
    "languages_spoken = pd.read_sql_query(q8, connection)\n",
    "print(languages_spoken)"
   ]
  }
 ],
 "metadata": {
  "kaggle": {
   "accelerator": "none",
   "dataSources": [
    {
     "datasetId": 5549593,
     "sourceId": 9181628,
     "sourceType": "datasetVersion"
    },
    {
     "datasetId": 5549937,
     "sourceId": 9182187,
     "sourceType": "datasetVersion"
    },
    {
     "datasetId": 5549949,
     "sourceId": 9182203,
     "sourceType": "datasetVersion"
    }
   ],
   "dockerImageVersionId": 30746,
   "isGpuEnabled": false,
   "isInternetEnabled": true,
   "language": "python",
   "sourceType": "notebook"
  },
  "kernelspec": {
   "display_name": "Python 3",
   "language": "python",
   "name": "python3"
  },
  "language_info": {
   "codemirror_mode": {
    "name": "ipython",
    "version": 3
   },
   "file_extension": ".py",
   "mimetype": "text/x-python",
   "name": "python",
   "nbconvert_exporter": "python",
   "pygments_lexer": "ipython3",
   "version": "3.10.13"
  },
  "papermill": {
   "default_parameters": {},
   "duration": 125.366551,
   "end_time": "2024-09-05T19:52:03.619325",
   "environment_variables": {},
   "exception": null,
   "input_path": "__notebook__.ipynb",
   "output_path": "__notebook__.ipynb",
   "parameters": {},
   "start_time": "2024-09-05T19:49:58.252774",
   "version": "2.5.0"
  }
 },
 "nbformat": 4,
 "nbformat_minor": 5
}
